{
 "cells": [
  {
   "cell_type": "code",
   "execution_count": 1,
   "id": "31e84355-49ef-4b07-878e-cb6346e1434d",
   "metadata": {},
   "outputs": [
    {
     "name": "stderr",
     "output_type": "stream",
     "text": [
      "/home/fall2023/pg2360/miniconda3/envs/mental_health_nlp/lib/python3.10/site-packages/tqdm/auto.py:21: TqdmWarning: IProgress not found. Please update jupyter and ipywidgets. See https://ipywidgets.readthedocs.io/en/stable/user_install.html\n",
      "  from .autonotebook import tqdm as notebook_tqdm\n"
     ]
    }
   ],
   "source": [
    "import os\n",
    "import numpy as np\n",
    "import pandas as pd\n",
    "import torch\n",
    "from sklearn.metrics import accuracy_score, precision_recall_fscore_support\n",
    "from transformers import (\n",
    "    AutoTokenizer,\n",
    "    AutoModelForSequenceClassification,\n",
    "    TrainingArguments,\n",
    "    Trainer,\n",
    "    pipeline,\n",
    ")\n",
    "from peft import LoraConfig, get_peft_model\n",
    "from datasets import Dataset\n",
    "from sklearn.model_selection import train_test_split"
   ]
  },
  {
   "cell_type": "code",
   "execution_count": 2,
   "id": "7840aafa-cc7f-4074-a41f-f8b48c092d46",
   "metadata": {},
   "outputs": [
    {
     "name": "stdout",
     "output_type": "stream",
     "text": [
      "Available GPUs: 1\n",
      "Using Device: cuda\n",
      "Clear cache\n"
     ]
    }
   ],
   "source": [
    "# Setup Environment\n",
    "os.environ[\"CUDA_VISIBLE_DEVICES\"] = \"3\"\n",
    "os.environ[\"TOKENIZERS_PARALLELISM\"] = \"false\"\n",
    "\n",
    "seed = 42\n",
    "np.random.seed(seed)\n",
    "torch.manual_seed(seed)\n",
    "torch.cuda.manual_seed(seed)\n",
    "torch.cuda.manual_seed_all(seed)\n",
    "\n",
    "print(\"Available GPUs:\", torch.cuda.device_count())\n",
    "device = torch.device(\"cuda\" if torch.cuda.is_available() else \"cpu\")\n",
    "print(\"Using Device:\", device)\n",
    "print(\"Clear cache\")\n",
    "torch.cuda.empty_cache()"
   ]
  },
  {
   "cell_type": "code",
   "execution_count": 3,
   "id": "4d7b4f54-4ecb-4571-90b0-24b42d805a18",
   "metadata": {},
   "outputs": [],
   "source": [
    "class DataPreparation:\n",
    "    def __init__(self, dataset_path, categories):\n",
    "        self.dataset_path = dataset_path\n",
    "        self.categories = categories\n",
    "        self.df = None\n",
    "        self.df_normal = None\n",
    "        self.hf_dataset = None\n",
    "        self.zero_shot_classifier = None\n",
    "\n",
    "        # Determine the device to use\n",
    "        self.device = torch.device(\"cuda\" if torch.cuda.is_available() else \"cpu\")\n",
    "        if self.device.type == \"cuda\":\n",
    "            current_device = torch.cuda.current_device()\n",
    "            print(f\"Using GPU: {torch.cuda.get_device_name(current_device)} (Device {current_device})\")\n",
    "        else:\n",
    "            print(\"Using CPU for processing.\")\n",
    "        print(f\"Device assigned to DataPreparation: {self.device}\")\n",
    "\n",
    "    def load_and_preprocess(self):\n",
    "        print(\"Loading and preprocessing dataset...\")\n",
    "        # Load dataset\n",
    "        self.df = pd.read_csv(self.dataset_path)\n",
    "\n",
    "        # Preprocess dataset\n",
    "        self.df['statement'] = self.df['statement'].fillna(\"\")\n",
    "        self.df = self.df[self.df['statement'].str.strip() != \"\"]\n",
    "        self.df = self.df[self.df['status'] != \"Suicidal\"]\n",
    "        self.df = self.df.reset_index(drop=True)\n",
    "\n",
    "        # Handle rows with \"Normal\" status\n",
    "        print(\"Handling rows with 'Normal' status...\")\n",
    "        self.df_normal = self.df[self.df['status'] == \"Normal\"].copy()\n",
    "        self.df_normal['ZeroShot_Cause'] = \"No Issues\"\n",
    "        self.df_normal['FineTuned_Cause'] = \"No Issues\"\n",
    "\n",
    "        # Filter rows to exclude the \"Normal\" rows before processing\n",
    "        self.df = self.df[self.df['status'] != \"Normal\"].copy()\n",
    "\n",
    "        print(\"Dataset preprocessed. Ready for zero-shot classification.\")\n",
    "        self.hf_dataset = Dataset.from_pandas(self.df)\n",
    "    \n",
    "    # Zero shot Learning\n",
    "    def zero_shot_classification(self):\n",
    "        print(\"Performing zero-shot categorization using a single GPU...\")\n",
    "        zero_shot_model_name = \"roberta-large-mnli\"\n",
    "        self.zero_shot_classifier = pipeline(\n",
    "            \"zero-shot-classification\",\n",
    "            model=zero_shot_model_name,\n",
    "            device=0 if self.device.type == \"cuda\" else -1\n",
    "        )\n",
    "\n",
    "        # Classification function\n",
    "        def classify(batch):\n",
    "            try:\n",
    "                results = self.zero_shot_classifier(batch[\"statement\"], self.categories, truncation=True)\n",
    "                batch[\"ZeroShot_Cause\"] = [\n",
    "                    result[\"labels\"][0] if result[\"labels\"] else \"Unknown\"\n",
    "                    for result in results\n",
    "                ]\n",
    "            except Exception as e:\n",
    "                print(f\"Error classifying batch: {batch['statement']}. Error: {e}\")\n",
    "                batch[\"ZeroShot_Cause\"] = [\"Unknown\"] * len(batch[\"statement\"])\n",
    "            return batch\n",
    "\n",
    "        # Zero-shot classification with batch processing\n",
    "        self.hf_dataset = self.hf_dataset.map(classify, batched=True, batch_size=8, num_proc=1)\n",
    "        print(\"Zero-shot classification complete.\")\n",
    "\n",
    "    def save_zero_shot_results(self, filename):\n",
    "        print(f\"Saving zero-shot results to {filename}...\")\n",
    "        # Add the \"Normal\" rows back\n",
    "        df_zero_shot = self.hf_dataset.to_pandas()\n",
    "        df_final = pd.concat([df_zero_shot, self.df_normal], ignore_index=True)\n",
    "        df_final.to_csv(filename, index=False)\n",
    "        print(f\"Zero-shot results saved to {filename}.\")"
   ]
  },
  {
   "cell_type": "code",
   "execution_count": 4,
   "id": "13eb078e-b1e8-49c5-b42e-9fe0a7f86157",
   "metadata": {},
   "outputs": [
    {
     "name": "stdout",
     "output_type": "stream",
     "text": [
      "Using GPU: NVIDIA A16 (Device 0)\n",
      "Device assigned to DataPreparation: cuda\n",
      "Loading and preprocessing dataset...\n",
      "Handling rows with 'Normal' status...\n",
      "Dataset preprocessed. Ready for zero-shot classification.\n",
      "Performing zero-shot categorization using a single GPU...\n"
     ]
    },
    {
     "name": "stderr",
     "output_type": "stream",
     "text": [
      "Some weights of the model checkpoint at roberta-large-mnli were not used when initializing RobertaForSequenceClassification: ['roberta.pooler.dense.bias', 'roberta.pooler.dense.weight']\n",
      "- This IS expected if you are initializing RobertaForSequenceClassification from the checkpoint of a model trained on another task or with another architecture (e.g. initializing a BertForSequenceClassification model from a BertForPreTraining model).\n",
      "- This IS NOT expected if you are initializing RobertaForSequenceClassification from the checkpoint of a model that you expect to be exactly identical (initializing a BertForSequenceClassification model from a BertForSequenceClassification model).\n",
      "/home/fall2023/pg2360/miniconda3/envs/mental_health_nlp/lib/python3.10/site-packages/transformers/tokenization_utils_base.py:1601: FutureWarning: `clean_up_tokenization_spaces` was not set. It will be set to `True` by default. This behavior will be depracted in transformers v4.45, and will be then set to `False` by default. For more details check this issue: https://github.com/huggingface/transformers/issues/31884\n",
      "  warnings.warn(\n",
      "Map:   0%|▏                                                                   | 80/25687 [00:08<41:31, 10.28 examples/s]You seem to be using the pipelines sequentially on GPU. In order to maximize efficiency please use a dataset\n",
      "Map: 100%|███████████████████████████████████████████████████████████████| 25687/25687 [2:28:44<00:00,  2.88 examples/s]\n"
     ]
    },
    {
     "name": "stdout",
     "output_type": "stream",
     "text": [
      "Zero-shot classification complete.\n",
      "Saving zero-shot results to zero_shot_predictions.csv...\n",
      "Zero-shot results saved to zero_shot_predictions.csv.\n"
     ]
    }
   ],
   "source": [
    "# Define dataset path and categories\n",
    "dataset_path = \"MentalHealthDataset.csv\"\n",
    "categories = [\"Health Issues\", \"Relationship Issues\", \"Financial Stress\", \"Workplace Stress\", \"Social Isolation\"]\n",
    "\n",
    "# Initialize and process\n",
    "data_prep = DataPreparation(dataset_path, categories)\n",
    "data_prep.load_and_preprocess()\n",
    "\n",
    "# Perform zero-shot classification\n",
    "data_prep.zero_shot_classification()\n",
    "\n",
    "# Save results to CSV\n",
    "data_prep.save_zero_shot_results(\"zero_shot_predictions.csv\")"
   ]
  },
  {
   "cell_type": "code",
   "execution_count": 11,
   "id": "da79b272-d8c6-4c26-ade7-4309d1701b65",
   "metadata": {},
   "outputs": [
    {
     "name": "stdout",
     "output_type": "stream",
     "text": [
      "Requirement already satisfied: transformers in /home/fall2023/pg2360/miniconda3/envs/mental_health_nlp/lib/python3.10/site-packages (4.44.0)\n",
      "Requirement already satisfied: requests in /home/fall2023/pg2360/miniconda3/envs/mental_health_nlp/lib/python3.10/site-packages (from transformers) (2.32.3)\n",
      "Requirement already satisfied: packaging>=20.0 in /home/fall2023/pg2360/miniconda3/envs/mental_health_nlp/lib/python3.10/site-packages (from transformers) (24.2)\n",
      "Requirement already satisfied: tokenizers<0.20,>=0.19 in /home/fall2023/pg2360/miniconda3/envs/mental_health_nlp/lib/python3.10/site-packages (from transformers) (0.19.1)\n",
      "Requirement already satisfied: filelock in /home/fall2023/pg2360/miniconda3/envs/mental_health_nlp/lib/python3.10/site-packages (from transformers) (3.16.1)\n",
      "Requirement already satisfied: regex!=2019.12.17 in /home/fall2023/pg2360/miniconda3/envs/mental_health_nlp/lib/python3.10/site-packages (from transformers) (2024.11.6)\n",
      "Requirement already satisfied: safetensors>=0.4.1 in /home/fall2023/pg2360/miniconda3/envs/mental_health_nlp/lib/python3.10/site-packages (from transformers) (0.4.5)\n",
      "Requirement already satisfied: pyyaml>=5.1 in /home/fall2023/pg2360/miniconda3/envs/mental_health_nlp/lib/python3.10/site-packages (from transformers) (6.0.2)\n",
      "Requirement already satisfied: numpy>=1.17 in /home/fall2023/pg2360/miniconda3/envs/mental_health_nlp/lib/python3.10/site-packages (from transformers) (2.0.2)\n",
      "Requirement already satisfied: huggingface-hub<1.0,>=0.23.2 in /home/fall2023/pg2360/miniconda3/envs/mental_health_nlp/lib/python3.10/site-packages (from transformers) (0.26.3)\n",
      "Requirement already satisfied: tqdm>=4.27 in /home/fall2023/pg2360/miniconda3/envs/mental_health_nlp/lib/python3.10/site-packages (from transformers) (4.66.5)\n",
      "Requirement already satisfied: typing-extensions>=3.7.4.3 in /home/fall2023/pg2360/miniconda3/envs/mental_health_nlp/lib/python3.10/site-packages (from huggingface-hub<1.0,>=0.23.2->transformers) (4.12.2)\n",
      "Requirement already satisfied: fsspec>=2023.5.0 in /home/fall2023/pg2360/miniconda3/envs/mental_health_nlp/lib/python3.10/site-packages (from huggingface-hub<1.0,>=0.23.2->transformers) (2024.9.0)\n",
      "Requirement already satisfied: charset-normalizer<4,>=2 in /home/fall2023/pg2360/miniconda3/envs/mental_health_nlp/lib/python3.10/site-packages (from requests->transformers) (3.4.0)\n",
      "Requirement already satisfied: certifi>=2017.4.17 in /home/fall2023/pg2360/miniconda3/envs/mental_health_nlp/lib/python3.10/site-packages (from requests->transformers) (2024.8.30)\n",
      "Requirement already satisfied: urllib3<3,>=1.21.1 in /home/fall2023/pg2360/miniconda3/envs/mental_health_nlp/lib/python3.10/site-packages (from requests->transformers) (2.2.3)\n",
      "Requirement already satisfied: idna<4,>=2.5 in /home/fall2023/pg2360/miniconda3/envs/mental_health_nlp/lib/python3.10/site-packages (from requests->transformers) (3.10)\n"
     ]
    }
   ],
   "source": [
    "!pip install transformers"
   ]
  },
  {
   "cell_type": "code",
   "execution_count": 1,
   "id": "1a98100a-294e-4444-b330-fb925d8d78e0",
   "metadata": {},
   "outputs": [
    {
     "name": "stderr",
     "output_type": "stream",
     "text": [
      "/home/fall2023/pg2360/miniconda3/envs/mental_health_nlp/lib/python3.10/site-packages/tqdm/auto.py:21: TqdmWarning: IProgress not found. Please update jupyter and ipywidgets. See https://ipywidgets.readthedocs.io/en/stable/user_install.html\n",
      "  from .autonotebook import tqdm as notebook_tqdm\n",
      "/home/fall2023/pg2360/miniconda3/envs/mental_health_nlp/lib/python3.10/site-packages/transformers/tokenization_utils_base.py:1601: FutureWarning: `clean_up_tokenization_spaces` was not set. It will be set to `True` by default. This behavior will be depracted in transformers v4.45, and will be then set to `False` by default. For more details check this issue: https://github.com/huggingface/transformers/issues/31884\n",
      "  warnings.warn(\n",
      "Some weights of BertForSequenceClassification were not initialized from the model checkpoint at mental/mental-bert-base-uncased and are newly initialized: ['bert.pooler.dense.bias', 'bert.pooler.dense.weight', 'classifier.bias', 'classifier.weight']\n",
      "You should probably TRAIN this model on a down-stream task to be able to use it for predictions and inference.\n",
      "Map: 100%|███████████████████████████████████████████████████████████████| 42030/42030 [00:10<00:00, 3879.86 examples/s]\n",
      "/home/fall2023/pg2360/miniconda3/envs/mental_health_nlp/lib/python3.10/site-packages/transformers/training_args.py:1525: FutureWarning: `evaluation_strategy` is deprecated and will be removed in version 4.46 of 🤗 Transformers. Use `eval_strategy` instead\n",
      "  warnings.warn(\n",
      "huggingface/tokenizers: The current process just got forked, after parallelism has already been used. Disabling parallelism to avoid deadlocks...\n",
      "To disable this warning, you can either:\n",
      "\t- Avoid using `tokenizers` before the fork if possible\n",
      "\t- Explicitly set the environment variable TOKENIZERS_PARALLELISM=(true | false)\n",
      "huggingface/tokenizers: The current process just got forked, after parallelism has already been used. Disabling parallelism to avoid deadlocks...\n",
      "To disable this warning, you can either:\n",
      "\t- Avoid using `tokenizers` before the fork if possible\n",
      "\t- Explicitly set the environment variable TOKENIZERS_PARALLELISM=(true | false)\n"
     ]
    },
    {
     "data": {
      "text/html": [
       "\n",
       "    <div>\n",
       "      \n",
       "      <progress value='5252' max='5252' style='width:300px; height:20px; vertical-align: middle;'></progress>\n",
       "      [5252/5252 3:19:45, Epoch 1/2]\n",
       "    </div>\n",
       "    <table border=\"1\" class=\"dataframe\">\n",
       "  <thead>\n",
       " <tr style=\"text-align: left;\">\n",
       "      <th>Step</th>\n",
       "      <th>Training Loss</th>\n",
       "    </tr>\n",
       "  </thead>\n",
       "  <tbody>\n",
       "    <tr>\n",
       "      <td>500</td>\n",
       "      <td>0.737000</td>\n",
       "    </tr>\n",
       "    <tr>\n",
       "      <td>1000</td>\n",
       "      <td>0.599400</td>\n",
       "    </tr>\n",
       "    <tr>\n",
       "      <td>1500</td>\n",
       "      <td>0.565900</td>\n",
       "    </tr>\n",
       "    <tr>\n",
       "      <td>2000</td>\n",
       "      <td>0.528600</td>\n",
       "    </tr>\n",
       "    <tr>\n",
       "      <td>2500</td>\n",
       "      <td>0.518300</td>\n",
       "    </tr>\n",
       "    <tr>\n",
       "      <td>3000</td>\n",
       "      <td>0.374700</td>\n",
       "    </tr>\n",
       "    <tr>\n",
       "      <td>3500</td>\n",
       "      <td>0.317800</td>\n",
       "    </tr>\n",
       "    <tr>\n",
       "      <td>4000</td>\n",
       "      <td>0.302800</td>\n",
       "    </tr>\n",
       "    <tr>\n",
       "      <td>4500</td>\n",
       "      <td>0.302400</td>\n",
       "    </tr>\n",
       "    <tr>\n",
       "      <td>5000</td>\n",
       "      <td>0.287200</td>\n",
       "    </tr>\n",
       "  </tbody>\n",
       "</table><p>"
      ],
      "text/plain": [
       "<IPython.core.display.HTML object>"
      ]
     },
     "metadata": {},
     "output_type": "display_data"
    }
   ],
   "source": [
    "from transformers import AutoTokenizer, AutoModelForSequenceClassification, Trainer, TrainingArguments\n",
    "import pandas as pd\n",
    "import torch\n",
    "from datasets import Dataset\n",
    "\n",
    "# Load the zero-shot predictions CSV file\n",
    "file_path = \"zero_shot_predictions.csv\"\n",
    "df = pd.read_csv(file_path)\n",
    "\n",
    "# Drop unnecessary columns\n",
    "df = df.drop(columns=[\"__index_level_0__\", \"id\", \"FineTuned_Cause\"], errors=\"ignore\")\n",
    "\n",
    "# Map causes to numerical labels\n",
    "categories = [\"Health Issues\", \"Relationship Issues\", \"Financial Stress\", \"Workplace Stress\", \"Social Isolation\", \"No Issues\"]\n",
    "label2id = {label: idx for idx, label in enumerate(categories)}\n",
    "id2label = {idx: label for label, idx in label2id.items()}\n",
    "df[\"label\"] = df[\"ZeroShot_Cause\"].map(label2id)\n",
    "\n",
    "# Use the entire dataset for fine-tuning\n",
    "train_texts = df[\"statement\"].tolist()\n",
    "train_labels = df[\"label\"].tolist()\n",
    "\n",
    "# Load MentalBERT tokenizer and model\n",
    "mentalbert_model = \"mental/mental-bert-base-uncased\"\n",
    "tokenizer = AutoTokenizer.from_pretrained(mentalbert_model)\n",
    "model = AutoModelForSequenceClassification.from_pretrained(mentalbert_model, num_labels=len(categories))\n",
    "\n",
    "# Tokenize the data\n",
    "def tokenize_function(examples):\n",
    "    return tokenizer(examples[\"text\"], truncation=True, padding=True)\n",
    "\n",
    "train_dataset = Dataset.from_dict({\"text\": train_texts, \"label\": train_labels}).map(tokenize_function, batched=True)\n",
    "\n",
    "# Define training arguments\n",
    "training_args = TrainingArguments(\n",
    "    output_dir=\"./results\",\n",
    "    evaluation_strategy=\"no\",  # No validation set\n",
    "    save_strategy=\"epoch\",     # Save model at the end of each epoch\n",
    "    learning_rate=5e-5,\n",
    "    per_device_train_batch_size=2,\n",
    "    gradient_accumulation_steps=8,  # Simulate an effective batch size of 16\n",
    "    num_train_epochs=2,\n",
    "    weight_decay=0.01,\n",
    "    save_total_limit=1  # Keep only the most recent checkpoint\n",
    ")\n",
    "\n",
    "\n",
    "# Define Trainer\n",
    "trainer = Trainer(\n",
    "    model=model,\n",
    "    args=training_args,\n",
    "    train_dataset=train_dataset,\n",
    "    tokenizer=tokenizer,\n",
    ")\n",
    "\n",
    "# Train the model\n",
    "trainer.train()\n",
    "\n",
    "# Save the fine-tuned model\n",
    "model.save_pretrained(\"fine_tuned_mentalbert_cause_classifier\")\n",
    "tokenizer.save_pretrained(\"fine_tuned_mentalbert_cause_classifier\")\n",
    "\n",
    "# Load the fine-tuned model for prediction\n",
    "model = AutoModelForSequenceClassification.from_pretrained(\"fine_tuned_mentalbert_cause_classifier\")\n",
    "tokenizer = AutoTokenizer.from_pretrained(\"fine_tuned_mentalbert_cause_classifier\")\n",
    "\n",
    "device = torch.device(\"cuda\" if torch.cuda.is_available() else \"cpu\")\n",
    "model = model.to(device)\n",
    "\n",
    "# Prediction function with device handling\n",
    "def predict_cause(statement):\n",
    "    inputs = tokenizer(statement, return_tensors=\"pt\", truncation=True, padding=True)\n",
    "    inputs = {key: value.to(device) for key, value in inputs.items()}  # Move inputs to the same device as the model\n",
    "    outputs = model(**inputs)\n",
    "    predicted_label = torch.argmax(outputs.logits, dim=1).item()\n",
    "    return id2label[predicted_label]"
   ]
  },
  {
   "cell_type": "code",
   "execution_count": 2,
   "id": "620f0526-0563-439f-b2cd-1a702cae40b0",
   "metadata": {},
   "outputs": [
    {
     "name": "stdout",
     "output_type": "stream",
     "text": [
      "Predicted causes saved to 'test_data_with_predicted_cause.csv'\n"
     ]
    }
   ],
   "source": [
    "import pandas as pd\n",
    "import torch\n",
    "from transformers import AutoTokenizer, AutoModelForSequenceClassification\n",
    "\n",
    "# Load the fine-tuned model for prediction\n",
    "model_path = \"fine_tuned_mentalbert_cause_classifier\"\n",
    "model = AutoModelForSequenceClassification.from_pretrained(model_path)\n",
    "tokenizer = AutoTokenizer.from_pretrained(model_path)\n",
    "\n",
    "device = torch.device(\"cuda\" if torch.cuda.is_available() else \"cpu\")\n",
    "model = model.to(device)\n",
    "\n",
    "# Define the label mapping \n",
    "id2label = {0: \"Health Issues\", 1: \"Relationship Issues\", 2: \"Financial Stress\", \n",
    "            3: \"Workplace Stress\", 4: \"Social Isolation\", 5: \"No Issues\"}\n",
    "\n",
    "# Cause Prediction \n",
    "def predict_cause(statement):\n",
    "    inputs = tokenizer(statement, return_tensors=\"pt\", truncation=True, padding=True)\n",
    "    inputs = {key: value.to(device) for key, value in inputs.items()}  # Move inputs to the same device as the model\n",
    "    outputs = model(**inputs)\n",
    "    predicted_label = torch.argmax(outputs.logits, dim=1).item()\n",
    "    return id2label[predicted_label]\n",
    "\n",
    "# Classify posts and update Predicted Cause\n",
    "def classify_post(row):\n",
    "    if row[\"Predicted Label\"] == \"Normal\":\n",
    "        return \"No Issues\"\n",
    "    return predict_cause(row[\"statement\"])\n",
    "\n",
    "# Load the test dataset\n",
    "test_file = \"TestDatasetPredictions.csv\"\n",
    "test_df = pd.read_csv(test_file)\n",
    "\n",
    "# Ensure the dataset contains the required columns\n",
    "required_columns = {\"statement\", \"Predicted Label\"}\n",
    "if not required_columns.issubset(test_df.columns):\n",
    "    raise ValueError(f\"The test dataset must contain these columns: {required_columns}\")\n",
    "\n",
    "# Generate the Predicted Cause column\n",
    "test_df[\"Predicted Cause\"] = test_df.apply(classify_post, axis=1)\n",
    "\n",
    "# Save the updated test dataset\n",
    "output_file = \"test_data_with_predicted_cause.csv\"\n",
    "test_df.to_csv(output_file, index=False)\n",
    "print(f\"Predicted causes saved to '{output_file}'\")"
   ]
  },
  {
   "cell_type": "code",
   "execution_count": 16,
   "id": "a39fdfda-3e8e-4b6f-87b2-f8243893f743",
   "metadata": {},
   "outputs": [
    {
     "name": "stdout",
     "output_type": "stream",
     "text": [
      "Frequency of Stressor Types:\n",
      "         Stressor Type  Count\n",
      "0            No Issues   9740\n",
      "1  Relationship Issues   7909\n",
      "2     Social Isolation   5219\n",
      "3        Health Issues   2799\n",
      "4     Financial Stress   1845\n",
      "5     Workplace Stress    463\n"
     ]
    },
    {
     "data": {
      "image/png": "[encoded data removed]",
      "text/plain": [
       "<Figure size 1000x600 with 1 Axes>"
      ]
     },
     "metadata": {},
     "output_type": "display_data"
    }
   ],
   "source": [
    "import pandas as pd\n",
    "import matplotlib.pyplot as plt\n",
    "\n",
    "# Load the updated dataset\n",
    "file_path = \"test_data_with_predicted_cause.csv\"\n",
    "df = pd.read_csv(file_path)\n",
    "\n",
    "# Calculate the frequency of each stressor type\n",
    "stressor_counts = df[\"Predicted Cause\"].value_counts()\n",
    "\n",
    "# Display the count of each stressor type\n",
    "stressor_counts_df = stressor_counts.reset_index()\n",
    "stressor_counts_df.columns = [\"Stressor Type\", \"Count\"]\n",
    "print(\"Frequency of Stressor Types:\")\n",
    "print(stressor_counts_df)\n",
    "\n",
    "# Plot the top stressors\n",
    "plt.figure(figsize=(10, 6))\n",
    "stressor_counts.plot(kind='bar', color='gray')\n",
    "plt.title(\"Frequency of Stressor Types\", fontsize=16)\n",
    "plt.xlabel(\"Stressor Types\", fontsize=14)\n",
    "plt.ylabel(\"Frequency\", fontsize=14)\n",
    "plt.xticks(rotation=45, fontsize=12)\n",
    "plt.grid(axis='y', linestyle='--', alpha=0.7)  # Optional: Add grid for better readability\n",
    "plt.tight_layout()\n",
    "plt.show()"
   ]
  },
  {
   "cell_type": "code",
   "execution_count": 6,
   "id": "d5e7f09b-b9c4-48d0-8cf9-6024e9d379e1",
   "metadata": {},
   "outputs": [
    {
     "name": "stderr",
     "output_type": "stream",
     "text": [
      "huggingface/tokenizers: The current process just got forked, after parallelism has already been used. Disabling parallelism to avoid deadlocks...\n",
      "To disable this warning, you can either:\n",
      "\t- Avoid using `tokenizers` before the fork if possible\n",
      "\t- Explicitly set the environment variable TOKENIZERS_PARALLELISM=(true | false)\n"
     ]
    },
    {
     "name": "stdout",
     "output_type": "stream",
     "text": [
      "Requirement already satisfied: vaderSentiment in /home/fall2023/pg2360/miniconda3/envs/mental_health_nlp/lib/python3.10/site-packages (3.3.2)\n",
      "Requirement already satisfied: requests in /home/fall2023/pg2360/miniconda3/envs/mental_health_nlp/lib/python3.10/site-packages (from vaderSentiment) (2.32.3)\n",
      "Requirement already satisfied: urllib3<3,>=1.21.1 in /home/fall2023/pg2360/miniconda3/envs/mental_health_nlp/lib/python3.10/site-packages (from requests->vaderSentiment) (2.2.3)\n",
      "Requirement already satisfied: certifi>=2017.4.17 in /home/fall2023/pg2360/miniconda3/envs/mental_health_nlp/lib/python3.10/site-packages (from requests->vaderSentiment) (2024.8.30)\n",
      "Requirement already satisfied: idna<4,>=2.5 in /home/fall2023/pg2360/miniconda3/envs/mental_health_nlp/lib/python3.10/site-packages (from requests->vaderSentiment) (3.10)\n",
      "Requirement already satisfied: charset-normalizer<4,>=2 in /home/fall2023/pg2360/miniconda3/envs/mental_health_nlp/lib/python3.10/site-packages (from requests->vaderSentiment) (3.4.0)\n"
     ]
    }
   ],
   "source": [
    "!pip install vaderSentiment"
   ]
  },
  {
   "cell_type": "code",
   "execution_count": 12,
   "id": "937a6662-cec0-4de9-a635-839bed6c80a6",
   "metadata": {},
   "outputs": [
    {
     "name": "stdout",
     "output_type": "stream",
     "text": [
      "Updated dataset with urgency levels saved to 'test_data_with_urgency_flags.csv'\n",
      "                                           statement Predicted Label  \\\n",
      "0  dear american teens question dutch person hear...          Normal   \n",
      "1  nothing look forward lifei dont many reasons k...      Depression   \n",
      "2  music recommendations im looking expand playli...          Normal   \n",
      "3  im done trying feel betterthe reason im still ...      Depression   \n",
      "4  worried  year old girl subject domestic physic...      Depression   \n",
      "\n",
      "       Predicted Cause Urgency Score Urgency Level Flag for Assistance  \n",
      "0            No Issues            NA           Low                  No  \n",
      "1     Financial Stress          7.11          High                 Yes  \n",
      "2            No Issues            NA           Low                  No  \n",
      "3        Health Issues           2.0           Low                  No  \n",
      "4  Relationship Issues          0.01           Low                  No  \n"
     ]
    }
   ],
   "source": [
    "from vaderSentiment.vaderSentiment import SentimentIntensityAnalyzer\n",
    "import pandas as pd\n",
    "\n",
    "# Load the updated dataset\n",
    "file_path = \"test_data_with_predicted_cause.csv\"\n",
    "df = pd.read_csv(file_path)\n",
    "\n",
    "# Initialize VADER SentimentIntensityAnalyzer\n",
    "analyzer = SentimentIntensityAnalyzer()\n",
    "\n",
    "# Calculate urgency score based on VADER compound score\n",
    "def calculate_urgency(statement):\n",
    "    sentiment_scores = analyzer.polarity_scores(statement)\n",
    "    compound_score = sentiment_scores['compound']\n",
    "    \n",
    "    # Normalize compound score to 1-10 scale and round to 2 decimal places\n",
    "    urgency_score = round((compound_score + 1) * 5, 2)\n",
    "    return urgency_score\n",
    "\n",
    "# Calculate urgency scores where the label is not \"Normal\"\n",
    "def apply_urgency_logic(row):\n",
    "    if row['Predicted Label'] == \"Normal\":\n",
    "        urgency_score = \"NA\"\n",
    "        urgency_level = \"Low\"\n",
    "        flag_for_assistance = \"No\"\n",
    "    else:\n",
    "        urgency_score = calculate_urgency(row['statement'])\n",
    "        if urgency_score >= 7:\n",
    "            urgency_level = \"High\"\n",
    "            flag_for_assistance = \"Yes\"\n",
    "        elif 4 <= urgency_score < 7:\n",
    "            urgency_level = \"Moderate\"\n",
    "            flag_for_assistance = \"No\"\n",
    "        else:\n",
    "            urgency_level = \"Low\"\n",
    "            flag_for_assistance = \"No\"\n",
    "    return pd.Series([urgency_score, urgency_level, flag_for_assistance])\n",
    "\n",
    "df[['Urgency Score', 'Urgency Level', 'Flag for Assistance']] = df.apply(apply_urgency_logic, axis=1)\n",
    "\n",
    "# Save the updated dataset\n",
    "output_file = \"test_data_with_urgency_flags.csv\"\n",
    "df.to_csv(output_file, index=False)\n",
    "print(f\"Updated dataset with urgency levels saved to '{output_file}'\")\n",
    "\n",
    "# Display the first few rows of the updated dataset\n",
    "print(df.head())"
   ]
  },
  {
   "cell_type": "code",
   "execution_count": 15,
   "id": "1aa388c2-ab99-4c06-b91d-8ab75b487881",
   "metadata": {},
   "outputs": [
    {
     "name": "stdout",
     "output_type": "stream",
     "text": [
      "Counts of scenarios that require assistance and those that don't:\n",
      "Flag for Assistance\n",
      "No     21083\n",
      "Yes     6892\n",
      "Name: count, dtype: int64\n"
     ]
    },
    {
     "data": {
      "image/png": "[encoded data removed]",
      "text/plain": [
       "<Figure size 800x600 with 1 Axes>"
      ]
     },
     "metadata": {},
     "output_type": "display_data"
    }
   ],
   "source": [
    "import matplotlib.pyplot as plt\n",
    "\n",
    "# Load the updated dataset\n",
    "file_path = \"test_data_with_urgency_flags.csv\"\n",
    "df = pd.read_csv(file_path)\n",
    "\n",
    "# Count the number of scenarios that require assistance and those that do not\n",
    "assistance_counts = df['Flag for Assistance'].value_counts()\n",
    "print(\"Counts of scenarios that require assistance and those that don't:\")\n",
    "print(assistance_counts)\n",
    "\n",
    "# Plot the counts in grayscale\n",
    "plt.figure(figsize=(8, 6))\n",
    "assistance_counts.plot(kind='bar', color=['gray', 'darkgray'])  # Set grayscale colors\n",
    "plt.title('Number of Scenarios Requiring Assistance vs Not Requiring Assistance', fontsize=14)\n",
    "plt.xlabel('Flag for Assistance', fontsize=12)\n",
    "plt.ylabel('Count', fontsize=12)\n",
    "plt.xticks(rotation=0, fontsize=10)\n",
    "plt.yticks(fontsize=10)\n",
    "plt.grid(axis='y', linestyle='--', alpha=0.7)  # Optional: Add grid for better readability\n",
    "plt.show()"
   ]
  },
  {
   "cell_type": "code",
   "execution_count": null,
   "id": "01d6cd50-1eb2-4872-9d67-962436271d8d",
   "metadata": {},
   "outputs": [],
   "source": []
  }
 ],
 "metadata": {
  "kernelspec": {
   "display_name": "Python 3 (ipykernel)",
   "language": "python",
   "name": "python3"
  },
  "language_info": {
   "codemirror_mode": {
    "name": "ipython",
    "version": 3
   },
   "file_extension": ".py",
   "mimetype": "text/x-python",
   "name": "python",
   "nbconvert_exporter": "python",
   "pygments_lexer": "ipython3",
   "version": "3.10.10"
  }
 },
 "nbformat": 4,
 "nbformat_minor": 5
}
