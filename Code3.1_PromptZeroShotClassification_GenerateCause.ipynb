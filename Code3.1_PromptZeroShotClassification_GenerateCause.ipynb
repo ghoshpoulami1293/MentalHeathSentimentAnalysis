{
 "cells": [
  {
   "cell_type": "code",
   "execution_count": 1,
   "id": "cd46dcff-337e-4cf5-8760-0b2123dc0562",
   "metadata": {},
   "outputs": [
    {
     "name": "stderr",
     "output_type": "stream",
     "text": [
      "/home/fall2023/pg2360/miniconda3/envs/mental_health_nlp/lib/python3.10/site-packages/tqdm/auto.py:21: TqdmWarning: IProgress not found. Please update jupyter and ipywidgets. See https://ipywidgets.readthedocs.io/en/stable/user_install.html\n",
      "  from .autonotebook import tqdm as notebook_tqdm\n"
     ]
    },
    {
     "name": "stdout",
     "output_type": "stream",
     "text": [
      "Using GPU: NVIDIA A16 (Device 0)\n",
      "Device assigned for ZeroShotClassification: cuda\n"
     ]
    },
    {
     "name": "stderr",
     "output_type": "stream",
     "text": [
      "Some weights of the model checkpoint at roberta-large-mnli were not used when initializing RobertaForSequenceClassification: ['roberta.pooler.dense.bias', 'roberta.pooler.dense.weight']\n",
      "- This IS expected if you are initializing RobertaForSequenceClassification from the checkpoint of a model trained on another task or with another architecture (e.g. initializing a BertForSequenceClassification model from a BertForPreTraining model).\n",
      "- This IS NOT expected if you are initializing RobertaForSequenceClassification from the checkpoint of a model that you expect to be exactly identical (initializing a BertForSequenceClassification model from a BertForSequenceClassification model).\n",
      "/home/fall2023/pg2360/miniconda3/envs/mental_health_nlp/lib/python3.10/site-packages/transformers/tokenization_utils_base.py:1601: FutureWarning: `clean_up_tokenization_spaces` was not set. It will be set to `True` by default. This behavior will be depracted in transformers v4.45, and will be then set to `False` by default. For more details check this issue: https://github.com/huggingface/transformers/issues/31884\n",
      "  warnings.warn(\n"
     ]
    },
    {
     "name": "stdout",
     "output_type": "stream",
     "text": [
      "\n",
      "Input Statement: \"I feel overwhelmed with tasks and deadlines at work, and it's starting to affect my sleep.\"\n",
      "\n",
      "Cause: Workplace Stress | Confidence: 0.7828\n",
      "Cause: Financial Stress | Confidence: 0.0829\n",
      "Cause: Social Isolation | Confidence: 0.0399\n",
      "Cause: Health Issues | Confidence: 0.0371\n",
      "Cause: Relationship Issues | Confidence: 0.0295\n",
      "Cause: No Issues | Confidence: 0.0278\n",
      "\n",
      "Predicted Cause: Workplace Stress (Confidence: 0.7828)\n"
     ]
    }
   ],
   "source": [
    "from transformers import pipeline\n",
    "import torch\n",
    "\n",
    "torch.cuda.empty_cache()\n",
    "\n",
    "# Define the categories for classification\n",
    "categories = [\"Health Issues\", \"Relationship Issues\", \"Financial Stress\", \"Workplace Stress\", \"Social Isolation\", \"No Issues\"]\n",
    "\n",
    "device = torch.device(\"cuda\" if torch.cuda.is_available() else \"cpu\")\n",
    "if device.type == \"cuda\":\n",
    "    current_device = torch.cuda.current_device()\n",
    "    print(f\"Using GPU: {torch.cuda.get_device_name(current_device)} (Device {current_device})\")\n",
    "else:\n",
    "    print(\"Using CPU for processing.\")\n",
    "print(f\"Device assigned for ZeroShotClassification: {device}\")\n",
    "\n",
    "# Load the zero-shot classification pipeline\n",
    "zero_shot_model_name = \"roberta-large-mnli\"\n",
    "zero_shot_classifier = pipeline(\n",
    "    \"zero-shot-classification\",\n",
    "    model=zero_shot_model_name,\n",
    "    device=0 if device.type == \"cuda\" else -1\n",
    ")\n",
    "\n",
    "# Zero-shot classification\n",
    "def demonstrate_zero_shot_classification(statement):\n",
    "    print(f\"\\nInput Statement: \\\"{statement}\\\"\\n\")\n",
    "    result = zero_shot_classifier(statement, categories, truncation=True)\n",
    "    \n",
    "    # Display the predicted category and scores\n",
    "    for label, score in zip(result[\"labels\"], result[\"scores\"]):\n",
    "        print(f\"Cause: {label} | Confidence: {score:.4f}\")\n",
    "    \n",
    "    # Show the most likely cause\n",
    "    predicted_cause = result[\"labels\"][0]\n",
    "    confidence = result[\"scores\"][0]\n",
    "    print(f\"\\nPredicted Cause: {predicted_cause} (Confidence: {confidence:.4f})\")\n",
    "\n",
    "# Prompt\n",
    "example_statement = \"I feel overwhelmed with tasks and deadlines at work, and it's starting to affect my sleep.\"\n",
    "demonstrate_zero_shot_classification(example_statement)"
   ]
  },
  {
   "cell_type": "code",
   "execution_count": null,
   "id": "cf6ceb20-aae4-4b5e-a82b-d6bce5aa4b11",
   "metadata": {},
   "outputs": [],
   "source": []
  }
 ],
 "metadata": {
  "kernelspec": {
   "display_name": "Python 3 (ipykernel)",
   "language": "python",
   "name": "python3"
  },
  "language_info": {
   "codemirror_mode": {
    "name": "ipython",
    "version": 3
   },
   "file_extension": ".py",
   "mimetype": "text/x-python",
   "name": "python",
   "nbconvert_exporter": "python",
   "pygments_lexer": "ipython3",
   "version": "3.10.10"
  }
 },
 "nbformat": 4,
 "nbformat_minor": 5
}
