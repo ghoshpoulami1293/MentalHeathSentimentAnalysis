{
 "cells": [
  {
   "cell_type": "code",
   "execution_count": 4,
   "id": "bb0ba61f-1f78-4dcc-971f-4177a9fa427d",
   "metadata": {},
   "outputs": [
    {
     "name": "stdout",
     "output_type": "stream",
     "text": [
      "\n",
      "Example Text: I'm feeling very anxious and scared.\n",
      "Predicted Label: Anxiety\n",
      "\n",
      "Example Text: I feel awful all day everyday, I feel like crying all the time\n",
      "Predicted Label: Depression\n"
     ]
    }
   ],
   "source": [
    "import torch\n",
    "import pandas as pd\n",
    "from transformers import AutoTokenizer, AutoModelForSequenceClassification\n",
    "from sklearn.metrics import classification_report\n",
    "\n",
    "# Path of the saved fine-tuned model\n",
    "model_path = \"fine_tuned_roberta_model\"\n",
    "\n",
    "# Load the fine-tuned model and tokenizer\n",
    "tokenizer = AutoTokenizer.from_pretrained(model_path)\n",
    "model = AutoModelForSequenceClassification.from_pretrained(model_path)\n",
    "\n",
    "# Define mapping of the label IDs to label names\n",
    "id2label = {0: \"Anxiety\", 1: \"Bipolar\", 2: \"Depression\", 3: \"Normal\", 4: \"Personality disorder\", 5: \"Stress\"}\n",
    "\n",
    "# Classify text\n",
    "def classify_text(text):\n",
    "    inputs = tokenizer(text, return_tensors=\"pt\", truncation=True, padding=True)\n",
    "    outputs = model(**inputs)\n",
    "    predicted_label_id = torch.argmax(outputs.logits, axis=1).item()\n",
    "    return id2label[predicted_label_id]\n",
    "\n",
    "# Prompt model with a single text\n",
    "example_text = \"I'm feeling very anxious and scared.\"\n",
    "predicted_label = classify_text(example_text)\n",
    "print(f\"\\nExample Text: {example_text}\")\n",
    "print(f\"Predicted Label: {predicted_label}\")\n",
    "\n",
    "example_text2 = \"I feel awful all day everyday, I feel like crying all the time\"\n",
    "predicted_label = classify_text(example_text2)\n",
    "print(f\"\\nExample Text: {example_text2}\")\n",
    "print(f\"Predicted Label: {predicted_label}\")"
   ]
  }
 ],
 "metadata": {
  "kernelspec": {
   "display_name": "Python 3 (ipykernel)",
   "language": "python",
   "name": "python3"
  },
  "language_info": {
   "codemirror_mode": {
    "name": "ipython",
    "version": 3
   },
   "file_extension": ".py",
   "mimetype": "text/x-python",
   "name": "python",
   "nbconvert_exporter": "python",
   "pygments_lexer": "ipython3",
   "version": "3.10.10"
  }
 },
 "nbformat": 4,
 "nbformat_minor": 5
}
