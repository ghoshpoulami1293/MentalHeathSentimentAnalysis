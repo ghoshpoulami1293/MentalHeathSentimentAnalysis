{
 "cells": [
  {
   "cell_type": "code",
   "execution_count": 5,
   "id": "ba069d5e-a897-4907-b9b1-50bbb8e3fc3c",
   "metadata": {},
   "outputs": [
    {
     "name": "stdout",
     "output_type": "stream",
     "text": [
      "\n",
      "For the statement:\n",
      "\"Strange. I don't have work today and I have a bit of free time so I can read shrill novels but... it feels weird. I've been nervous about checking the google calendar just in case if I read it wrong. But it's still weird, how about this, like you should be looking for a job to get rid of this feeling.\"\n",
      "The predicted cause is: Workplace Stress\n",
      "\n",
      "For the statement:\n",
      "\"I dont like going out these days. No regrets or grudges/angry at things that have passed, and not worrying too much about the future, that's true serenity.\"\n",
      "The predicted cause is: Social Isolation\n",
      "\n",
      "For the statement:\n",
      "\"Some days I'm very restless when I want to sleep. I often black out and faint\"\n",
      "The predicted cause is: Health Issues\n"
     ]
    }
   ],
   "source": [
    "from transformers import AutoTokenizer, AutoModelForSequenceClassification\n",
    "import torch\n",
    "\n",
    "torch.cuda.empty_cache()\n",
    "\n",
    "# Load the fine-tuned MentalBERT model and tokenizer\n",
    "model_path = \"fine_tuned_mentalbert_cause_classifier\"\n",
    "tokenizer = AutoTokenizer.from_pretrained(model_path)\n",
    "model = AutoModelForSequenceClassification.from_pretrained(model_path)\n",
    "\n",
    "device = torch.device(\"cuda\" if torch.cuda.is_available() else \"cpu\")\n",
    "model = model.to(device)\n",
    "\n",
    "# Define label mapping\n",
    "id2label = {\n",
    "    0: \"Health Issues\",\n",
    "    1: \"Relationship Issues\",\n",
    "    2: \"Financial Stress\",\n",
    "    3: \"Workplace Stress\",\n",
    "    4: \"Social Isolation\",\n",
    "    5: \"No Issues\"\n",
    "}\n",
    "\n",
    "# Predict Cause\n",
    "def predict_cause(statement):\n",
    "    # Tokenize the input\n",
    "    inputs = tokenizer(statement, return_tensors=\"pt\", truncation=True, padding=True)\n",
    "    inputs = {key: value.to(device) for key, value in inputs.items()}  # Move inputs to the same device as the model\n",
    "    \n",
    "    # Perform prediction\n",
    "    with torch.no_grad():\n",
    "        outputs = model(**inputs)\n",
    "    predicted_label = torch.argmax(outputs.logits, dim=1).item()\n",
    "    \n",
    "    # Return the predicted cause\n",
    "    cause = id2label[predicted_label]\n",
    "    return cause\n",
    "\n",
    "# Prompts\n",
    "example_statement1 = \"Strange. I don't have work today and I have a bit of free time so I can read shrill novels but... it feels weird. I've been nervous about checking the google calendar just in case if I read it wrong. But it's still weird, how about this, like you should be looking for a job to get rid of this feeling.\"\n",
    "predicted_cause1 = predict_cause(example_statement1)\n",
    "print(f\"\\nFor the statement:\\n\\\"{example_statement1}\\\"\\nThe predicted cause is: {predicted_cause1}\")\n",
    "\n",
    "example_statement2 = \"I dont like going out these days. No regrets or grudges/angry at things that have passed, and not worrying too much about the future, that's true serenity.\"\n",
    "predicted_cause2 = predict_cause(example_statement2)\n",
    "print(f\"\\nFor the statement:\\n\\\"{example_statement2}\\\"\\nThe predicted cause is: {predicted_cause2}\")\n",
    "\n",
    "example_statement3 = \"Some days I'm very restless when I want to sleep. I often black out and faint\"\n",
    "predicted_cause3 = predict_cause(example_statement3)\n",
    "print(f\"\\nFor the statement:\\n\\\"{example_statement3}\\\"\\nThe predicted cause is: {predicted_cause3}\")"
   ]
  },
  {
   "cell_type": "code",
   "execution_count": null,
   "id": "cd3cd22f-6061-401a-99fc-eae0825a504b",
   "metadata": {},
   "outputs": [],
   "source": []
  }
 ],
 "metadata": {
  "kernelspec": {
   "display_name": "Python 3 (ipykernel)",
   "language": "python",
   "name": "python3"
  },
  "language_info": {
   "codemirror_mode": {
    "name": "ipython",
    "version": 3
   },
   "file_extension": ".py",
   "mimetype": "text/x-python",
   "name": "python",
   "nbconvert_exporter": "python",
   "pygments_lexer": "ipython3",
   "version": "3.10.10"
  }
 },
 "nbformat": 4,
 "nbformat_minor": 5
}
